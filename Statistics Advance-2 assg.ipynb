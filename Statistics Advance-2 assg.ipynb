{
 "cells": [
  {
   "cell_type": "code",
   "execution_count": 1,
   "id": "813a1ab1-6230-49b0-b864-2f5dab0b35fd",
   "metadata": {},
   "outputs": [],
   "source": [
    "#Q1: What are the Probability Mass Function (PMF) and Probability Density Function (PDF)? Explain with an example.\n"
   ]
  },
  {
   "cell_type": "code",
   "execution_count": 6,
   "id": "3f0a06c2-3e5d-484a-8b86-34da48d6be54",
   "metadata": {},
   "outputs": [
    {
     "data": {
      "text/plain": [
       "'Probability Mass Function (PMF): The PMF is used to describe the probability distribution of a discrete random variable. It assigns a probability to each possible outcome or value of the random variable. Mathematically, it is represented as P(X = x), where X is the random variable and x is a specific value.\\n\\nExample: Consider rolling a fair six-sided die. The PMF for this situation would assign a probability of 1/6 to each of the six possible outcomes (values 1 through 6).\\n\\nProbability Density Function (PDF): The PDF is used to describe the probability distribution of a continuous random variable. Unlike the PMF, it assigns probabilities to intervals rather than specific values. The area under the PDF curve within an interval represents the probability of the variable falling within that interval.\\n\\nExample: The PDF of a standard normal distribution (with mean 0 and standard deviation 1) is represented by the bell-shaped curve. The probability of a value falling within a specific range, such as between -1 and 1, can be calculated by finding the area under the curve within that range.'"
      ]
     },
     "execution_count": 6,
     "metadata": {},
     "output_type": "execute_result"
    }
   ],
   "source": [
    "'''Probability Mass Function (PMF): The PMF is used to describe the probability distribution of a discrete random variable. It assigns a probability to each possible outcome or value of the random variable. Mathematically, it is represented as P(X = x), where X is the random variable and x is a specific value.\n",
    "\n",
    "Example: Consider rolling a fair six-sided die. The PMF for this situation would assign a probability of 1/6 to each of the six possible outcomes (values 1 through 6).\n",
    "\n",
    "Probability Density Function (PDF): The PDF is used to describe the probability distribution of a continuous random variable. Unlike the PMF, it assigns probabilities to intervals rather than specific values. The area under the PDF curve within an interval represents the probability of the variable falling within that interval.\n",
    "\n",
    "Example: The PDF of a standard normal distribution (with mean 0 and standard deviation 1) is represented by the bell-shaped curve. The probability of a value falling within a specific range, such as between -1 and 1, can be calculated by finding the area under the curve within that range.'''"
   ]
  },
  {
   "cell_type": "code",
   "execution_count": 2,
   "id": "a0ba3c98-4689-465a-82c8-ba6d1343f893",
   "metadata": {},
   "outputs": [],
   "source": [
    "#Q2: What is Cumulative Density Function (CDF)? Explain with an example. Why CDF is used?\n"
   ]
  },
  {
   "cell_type": "code",
   "execution_count": 7,
   "id": "d543be05-ddf2-495e-ae76-24accdb0d0c5",
   "metadata": {},
   "outputs": [
    {
     "data": {
      "text/plain": [
       "'Cumulative Density Function (CDF): The CDF provides the cumulative probability that a random variable takes on a value less than or equal to a given value. It gives a complete picture of the distribution and is defined for both discrete and continuous random variables. Mathematically, it is represented as F(x) = P(X ≤ x), where X is the random variable and x is a specific value.\\n\\nExample: In the context of rolling a fair six-sided die, the CDF would show the cumulative probability of getting a value less than or equal to a specific number. For example, the CDF would tell you the probability of getting a 3 or less, which is the sum of the probabilities for 1, 2, and 3.\\n\\nCDF is useful because it allows you to answer questions about the likelihood of a random variable falling within a certain range, making it a valuable tool for statistical analysis and hypothesis testing.'"
      ]
     },
     "execution_count": 7,
     "metadata": {},
     "output_type": "execute_result"
    }
   ],
   "source": [
    "'''Cumulative Density Function (CDF): The CDF provides the cumulative probability that a random variable takes on a value less than or equal to a given value. It gives a complete picture of the distribution and is defined for both discrete and continuous random variables. Mathematically, it is represented as F(x) = P(X ≤ x), where X is the random variable and x is a specific value.\n",
    "\n",
    "Example: In the context of rolling a fair six-sided die, the CDF would show the cumulative probability of getting a value less than or equal to a specific number. For example, the CDF would tell you the probability of getting a 3 or less, which is the sum of the probabilities for 1, 2, and 3.\n",
    "\n",
    "CDF is useful because it allows you to answer questions about the likelihood of a random variable falling within a certain range, making it a valuable tool for statistical analysis and hypothesis testing.'''"
   ]
  },
  {
   "cell_type": "code",
   "execution_count": 3,
   "id": "2267ad04-0701-4409-8b4a-a7c1112119da",
   "metadata": {},
   "outputs": [],
   "source": [
    "#Q3: What are some examples of situations where the normal distribution might be used as a model? Explain how the parameters of the normal distribution relate to the shape of the distribution.\n"
   ]
  },
  {
   "cell_type": "code",
   "execution_count": 8,
   "id": "293dfd9c-8fed-4dcd-a0ba-bdc0fe6ede62",
   "metadata": {},
   "outputs": [
    {
     "data": {
      "text/plain": [
       "'Examples of situations where the normal distribution might be used as a model include:\\n\\nHeights of adult humans: The normal distribution is often used to model the heights of a population, with the mean and standard deviation reflecting the average height and the variation around that average.\\nTest scores: Test scores, like SAT or IQ scores, are often assumed to follow a normal distribution.\\nMeasurement errors: Errors in scientific measurements are often assumed to be normally distributed.\\nFinancial returns: Daily stock returns are sometimes modeled using a normal distribution.\\nThe parameters of the normal distribution are the mean (μ) and the standard deviation (σ). These parameters determine the shape and characteristics of the distribution:\\n\\nThe mean (μ) represents the center or peak of the distribution.\\nThe standard deviation (σ) controls the spread or width of the distribution. A larger σ results in a wider distribution.'"
      ]
     },
     "execution_count": 8,
     "metadata": {},
     "output_type": "execute_result"
    }
   ],
   "source": [
    "'''Examples of situations where the normal distribution might be used as a model include:\n",
    "\n",
    "Heights of adult humans: The normal distribution is often used to model the heights of a population, with the mean and standard deviation reflecting the average height and the variation around that average.\n",
    "Test scores: Test scores, like SAT or IQ scores, are often assumed to follow a normal distribution.\n",
    "Measurement errors: Errors in scientific measurements are often assumed to be normally distributed.\n",
    "Financial returns: Daily stock returns are sometimes modeled using a normal distribution.\n",
    "The parameters of the normal distribution are the mean (μ) and the standard deviation (σ). These parameters determine the shape and characteristics of the distribution:\n",
    "\n",
    "The mean (μ) represents the center or peak of the distribution.\n",
    "The standard deviation (σ) controls the spread or width of the distribution. A larger σ results in a wider distribution.'''"
   ]
  },
  {
   "cell_type": "code",
   "execution_count": 9,
   "id": "f5e4c0b6-e616-4d94-a860-6b50809a0365",
   "metadata": {},
   "outputs": [],
   "source": [
    "#Q4: Explain the importance of Normal Distribution. Give a few real-life examples of Normal Distribution. \n"
   ]
  },
  {
   "cell_type": "code",
   "execution_count": 10,
   "id": "18ebfb5e-e262-4aa3-b91b-26050c3f7d60",
   "metadata": {},
   "outputs": [
    {
     "data": {
      "text/plain": [
       "'The normal distribution is important in statistics and data analysis for several reasons:\\nCentral Limit Theorem: It plays a central role in the Central Limit Theorem, which states that the sampling distribution of the sample mean of a large number of independent, identically distributed random variables approaches a normal distribution, regardless of the underlying distribution. This theorem is fundamental for statistical inference.\\nModeling: It serves as a useful model for many real-world phenomena, simplifying complex processes and making them more understandable and manageable.\\nHypothesis Testing: Many statistical tests and procedures assume or approximate normality, making it a common distribution for hypothesis testing.\\nEstimation: Parameters like the mean and standard deviation are often estimated using methods that assume normality.\\nReal-life examples of the normal distribution include:\\nThe distribution of heights in a population.\\nThe distribution of IQ scores in a large group.\\nThe distribution of errors in scientific measurements.\\nThe distribution of daily stock returns in financial markets.'"
      ]
     },
     "execution_count": 10,
     "metadata": {},
     "output_type": "execute_result"
    }
   ],
   "source": [
    "'''The normal distribution is important in statistics and data analysis for several reasons:\n",
    "Central Limit Theorem: It plays a central role in the Central Limit Theorem, which states that the sampling distribution of the sample mean of a large number of independent, identically distributed random variables approaches a normal distribution, regardless of the underlying distribution. This theorem is fundamental for statistical inference.\n",
    "Modeling: It serves as a useful model for many real-world phenomena, simplifying complex processes and making them more understandable and manageable.\n",
    "Hypothesis Testing: Many statistical tests and procedures assume or approximate normality, making it a common distribution for hypothesis testing.\n",
    "Estimation: Parameters like the mean and standard deviation are often estimated using methods that assume normality.\n",
    "Real-life examples of the normal distribution include:\n",
    "The distribution of heights in a population.\n",
    "The distribution of IQ scores in a large group.\n",
    "The distribution of errors in scientific measurements.\n",
    "The distribution of daily stock returns in financial markets.'''"
   ]
  },
  {
   "cell_type": "code",
   "execution_count": 11,
   "id": "f6d7fe70-e62f-46a5-909e-9e9bba4075ef",
   "metadata": {},
   "outputs": [],
   "source": [
    "#Q5: What is Bernaulli Distribution? Give an Example. What is the difference between Bernoulli Distribution and Binomial Distribution?"
   ]
  },
  {
   "cell_type": "code",
   "execution_count": 12,
   "id": "77b597c1-3f89-437d-86f3-3268c4886f97",
   "metadata": {},
   "outputs": [
    {
     "data": {
      "text/plain": [
       "'Bernoulli Distribution: The Bernoulli distribution models a random experiment with two possible outcomes: success (usually denoted as 1) and failure (usually denoted as 0). It is used to represent a single trial or observation of a binary event where the probability of success (p) and failure (1-p) are known.\\n\\nExample: A Bernoulli distribution can represent the outcome of a single coin toss, where \"success\" is getting heads (1) and \"failure\" is getting tails (0). If the probability of getting heads is p = 0.5, it follows a Bernoulli distribution.\\n\\nBinomial Distribution: The Binomial distribution models the number of successes (k) in a fixed number of independent Bernoulli trials (n). It extends the Bernoulli distribution to multiple trials.\\n\\nExample: If you want to know the probability of getting exactly 3 heads in 5 coin tosses (each with p = 0.5 for heads), you would use a Binomial distribution with n = 5 trials and k = 3 successes.\\n\\nDifference:\\n\\nBernoulli distribution deals with a single trial or observation, while the Binomial distribution deals with multiple trials.\\nIn a Bernoulli distribution, you have only two possible outcomes (success and failure), whereas the Binomial distribution deals with the count of successes in multiple trials.\\nThe Bernoulli distribution has a single parameter, p, representing the probability of success in a single trial. The Binomial distribution has two parameters, n (number of trials) and p (probability of success in a single trial).'"
      ]
     },
     "execution_count": 12,
     "metadata": {},
     "output_type": "execute_result"
    }
   ],
   "source": [
    "'''Bernoulli Distribution: The Bernoulli distribution models a random experiment with two possible outcomes: success (usually denoted as 1) and failure (usually denoted as 0). It is used to represent a single trial or observation of a binary event where the probability of success (p) and failure (1-p) are known.\n",
    "\n",
    "Example: A Bernoulli distribution can represent the outcome of a single coin toss, where \"success\" is getting heads (1) and \"failure\" is getting tails (0). If the probability of getting heads is p = 0.5, it follows a Bernoulli distribution.\n",
    "\n",
    "Binomial Distribution: The Binomial distribution models the number of successes (k) in a fixed number of independent Bernoulli trials (n). It extends the Bernoulli distribution to multiple trials.\n",
    "\n",
    "Example: If you want to know the probability of getting exactly 3 heads in 5 coin tosses (each with p = 0.5 for heads), you would use a Binomial distribution with n = 5 trials and k = 3 successes.\n",
    "\n",
    "Difference:\n",
    "\n",
    "Bernoulli distribution deals with a single trial or observation, while the Binomial distribution deals with multiple trials.\n",
    "In a Bernoulli distribution, you have only two possible outcomes (success and failure), whereas the Binomial distribution deals with the count of successes in multiple trials.\n",
    "The Bernoulli distribution has a single parameter, p, representing the probability of success in a single trial. The Binomial distribution has two parameters, n (number of trials) and p (probability of success in a single trial).'''"
   ]
  },
  {
   "cell_type": "code",
   "execution_count": 13,
   "id": "dafa9863-9176-4ead-8d44-76edacfc32ed",
   "metadata": {},
   "outputs": [],
   "source": [
    "#Q6. Consider a dataset with a mean of 50 and a standard deviation of 10. If we assume that the dataset is normally distributed, what is the probability that a randomly selected observation will be greater than 60? Use the appropriate formula and show your calculations.\n"
   ]
  },
  {
   "cell_type": "code",
   "execution_count": null,
   "id": "e54c27c8-3593-46d6-a1a3-e65078d9023c",
   "metadata": {},
   "outputs": [],
   "source": []
  },
  {
   "cell_type": "code",
   "execution_count": 14,
   "id": "2e73a6fb-b5ee-4553-a86f-cefe4758bcc5",
   "metadata": {},
   "outputs": [],
   "source": [
    "#Q7: Explain uniform Distribution with an example.\n"
   ]
  },
  {
   "cell_type": "code",
   "execution_count": 20,
   "id": "02261660-21ba-4102-9cb9-397dc49419bd",
   "metadata": {},
   "outputs": [
    {
     "data": {
      "text/plain": [
       "'The uniform distribution is a probability distribution in which all values within a given interval are equally likely to occur. It is characterized by a constant probability density function (PDF) over the interval, resulting in a rectangular-shaped distribution.\\n\\nProbability Density Function (PDF):\\n\\nFor a continuous uniform distribution over the interval [a, b], the PDF is constant:\\n�\\n(\\n�\\n)\\n=\\n1\\n�\\n−\\n�\\nf(x)= \\nb−a\\n1\\n\\u200b\\n  for \\n�\\n≤\\n�\\n≤\\n�\\na≤x≤b\\n�\\n(\\n�\\n)\\n=\\n0\\nf(x)=0 for \\n�\\n<\\n�\\nx<a and \\n�\\n>\\n�\\nx>b\\nExample: Suppose you roll a fair six-sided die. Each face has an equal probability of 1/6. This represents a discrete uniform distribution because the outcomes are discrete (1, 2, 3, 4, 5, 6) with equal probabilities.'"
      ]
     },
     "execution_count": 20,
     "metadata": {},
     "output_type": "execute_result"
    }
   ],
   "source": [
    "'''The uniform distribution is a probability distribution in which all values within a given interval are equally likely to occur. It is characterized by a constant probability density function (PDF) over the interval, resulting in a rectangular-shaped distribution.\n",
    "\n",
    "Probability Density Function (PDF):\n",
    "\n",
    "For a continuous uniform distribution over the interval [a, b], the PDF is constant:\n",
    "�\n",
    "(\n",
    "�\n",
    ")\n",
    "=\n",
    "1\n",
    "�\n",
    "−\n",
    "�\n",
    "f(x)= \n",
    "b−a\n",
    "1\n",
    "​\n",
    "  for \n",
    "�\n",
    "≤\n",
    "�\n",
    "≤\n",
    "�\n",
    "a≤x≤b\n",
    "�\n",
    "(\n",
    "�\n",
    ")\n",
    "=\n",
    "0\n",
    "f(x)=0 for \n",
    "�\n",
    "<\n",
    "�\n",
    "x<a and \n",
    "�\n",
    ">\n",
    "�\n",
    "x>b\n",
    "Example: Suppose you roll a fair six-sided die. Each face has an equal probability of 1/6. This represents a discrete uniform distribution because the outcomes are discrete (1, 2, 3, 4, 5, 6) with equal probabilities.'''"
   ]
  },
  {
   "cell_type": "code",
   "execution_count": 15,
   "id": "b38206b5-cc5d-4d1f-b081-37883eac83fd",
   "metadata": {},
   "outputs": [],
   "source": [
    "#Q8: What is the z score? State the importance of the z score.\n"
   ]
  },
  {
   "cell_type": "code",
   "execution_count": 21,
   "id": "6f2881da-1430-4f90-867a-08a389f1fe16",
   "metadata": {},
   "outputs": [
    {
     "data": {
      "text/plain": [
       "'The z-score (also called the standard score) measures how many standard deviations an observation or data point is from the mean in a normally distributed dataset.\\nThe formula for calculating the z-score for an observation X in a distribution with mean μ and standard deviation σ is:\\n�\\n=\\n�\\n−\\n�\\n�\\nZ= \\nσ\\nX−μ\\n\\u200b\\n \\nThe importance of the z-score lies in its ability to standardize data, allowing for comparisons between different datasets and helping to identify extreme or unusual observations.'"
      ]
     },
     "execution_count": 21,
     "metadata": {},
     "output_type": "execute_result"
    }
   ],
   "source": [
    "'''The z-score (also called the standard score) measures how many standard deviations an observation or data point is from the mean in a normally distributed dataset.\n",
    "The formula for calculating the z-score for an observation X in a distribution with mean μ and standard deviation σ is:\n",
    "�\n",
    "=\n",
    "�\n",
    "−\n",
    "�\n",
    "�\n",
    "Z= \n",
    "σ\n",
    "X−μ\n",
    "​\n",
    " \n",
    "The importance of the z-score lies in its ability to standardize data, allowing for comparisons between different datasets and helping to identify extreme or unusual observations.'''"
   ]
  },
  {
   "cell_type": "code",
   "execution_count": 16,
   "id": "01f10b02-b790-4393-833e-b30829e89b9a",
   "metadata": {},
   "outputs": [],
   "source": [
    "#Q9: What is Central Limit Theorem? State the significance of the Central Limit Theorem.\n"
   ]
  },
  {
   "cell_type": "code",
   "execution_count": 22,
   "id": "59a21354-d88d-444c-9dea-71d7309df825",
   "metadata": {},
   "outputs": [
    {
     "data": {
      "text/plain": [
       "\"The Central Limit Theorem is a fundamental concept in statistics.\\nIt states that the distribution of the sample means (or sums) of a sufficiently large number of independent, identically distributed random variables will be approximately normally distributed, regardless of the underlying population distribution.\\nThis theorem is significant because it allows us to make inferences about a population's mean and variance based on sample data, even when we don't know the population's distribution. It forms the basis for many statistical techniques, including hypothesis testing and confidence interval estimation.\""
      ]
     },
     "execution_count": 22,
     "metadata": {},
     "output_type": "execute_result"
    }
   ],
   "source": [
    "'''The Central Limit Theorem is a fundamental concept in statistics.\n",
    "It states that the distribution of the sample means (or sums) of a sufficiently large number of independent, identically distributed random variables will be approximately normally distributed, regardless of the underlying population distribution.\n",
    "This theorem is significant because it allows us to make inferences about a population's mean and variance based on sample data, even when we don't know the population's distribution. It forms the basis for many statistical techniques, including hypothesis testing and confidence interval estimation.'''"
   ]
  },
  {
   "cell_type": "code",
   "execution_count": 17,
   "id": "e2247af3-47e1-4c13-9955-474c256f3cc2",
   "metadata": {},
   "outputs": [],
   "source": [
    "#Q10: State the assumptions of the Central Limit Theorem."
   ]
  },
  {
   "cell_type": "code",
   "execution_count": 23,
   "id": "dbc74676-c786-4653-9c40-fb7363f8cb3b",
   "metadata": {},
   "outputs": [
    {
     "data": {
      "text/plain": [
       "'Random Sampling: The data must be collected through random sampling methods to ensure that the samples are representative of the population.\\n\\nIndependence: The individual observations or samples must be independent of each other. In the case of sampling without replacement, the sample size should be less than 10% of the population size to approximate independence.\\n\\nSample Size: The sample size should be sufficiently large. While there is no fixed rule for what constitutes \"sufficiently large,\" a common guideline is that a sample size of at least 30 is often large enough for the CLT to apply. However, smaller sample sizes may also be adequate depending on the distribution of the population.\\n\\nPopulation Distribution: The population from which the samples are drawn should have a well-defined mean (μ) and variance (σ^2). Even if the population distribution is not normal, the CLT states that the distribution of sample means will become approximately normal as the sample size increases.\\n\\nMeeting these assumptions allows the Central Limit Theorem to provide valid approximations for the distribution of sample means, making it a powerful tool in statistical analysis.'"
      ]
     },
     "execution_count": 23,
     "metadata": {},
     "output_type": "execute_result"
    }
   ],
   "source": [
    "'''Random Sampling: The data must be collected through random sampling methods to ensure that the samples are representative of the population.\n",
    "\n",
    "Independence: The individual observations or samples must be independent of each other. In the case of sampling without replacement, the sample size should be less than 10% of the population size to approximate independence.\n",
    "\n",
    "Sample Size: The sample size should be sufficiently large. While there is no fixed rule for what constitutes \"sufficiently large,\" a common guideline is that a sample size of at least 30 is often large enough for the CLT to apply. However, smaller sample sizes may also be adequate depending on the distribution of the population.\n",
    "\n",
    "Population Distribution: The population from which the samples are drawn should have a well-defined mean (μ) and variance (σ^2). Even if the population distribution is not normal, the CLT states that the distribution of sample means will become approximately normal as the sample size increases.\n",
    "\n",
    "Meeting these assumptions allows the Central Limit Theorem to provide valid approximations for the distribution of sample means, making it a powerful tool in statistical analysis.'''"
   ]
  },
  {
   "cell_type": "code",
   "execution_count": null,
   "id": "cfdc5f43-9119-496f-8612-d250c56a1c1d",
   "metadata": {},
   "outputs": [],
   "source": []
  }
 ],
 "metadata": {
  "kernelspec": {
   "display_name": "Python 3 (ipykernel)",
   "language": "python",
   "name": "python3"
  },
  "language_info": {
   "codemirror_mode": {
    "name": "ipython",
    "version": 3
   },
   "file_extension": ".py",
   "mimetype": "text/x-python",
   "name": "python",
   "nbconvert_exporter": "python",
   "pygments_lexer": "ipython3",
   "version": "3.10.8"
  }
 },
 "nbformat": 4,
 "nbformat_minor": 5
}
